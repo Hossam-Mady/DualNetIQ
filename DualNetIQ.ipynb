{
 "cells": [
  {
   "cell_type": "code",
   "execution_count": 1,
   "id": "efde4900-9ec3-4b56-b716-3a4e79bbbecb",
   "metadata": {},
   "outputs": [
    {
     "name": "stderr",
     "output_type": "stream",
     "text": [
      "C:\\Users\\PC\\AppData\\Local\\Temp\\ipykernel_11480\\3079585353.py:2: DeprecationWarning: \n",
      "Pyarrow will become a required dependency of pandas in the next major release of pandas (pandas 3.0),\n",
      "(to allow more performant data types, such as the Arrow string type, and better interoperability with other libraries)\n",
      "but was not found to be installed on your system.\n",
      "If this would cause problems for you,\n",
      "please provide us feedback at https://github.com/pandas-dev/pandas/issues/54466\n",
      "        \n",
      "  import pandas as pd\n"
     ]
    }
   ],
   "source": [
    "import numpy as np\n",
    "import pandas as pd\n",
    "import os,sys\n",
    "import torch\n",
    "from torchvision import models,transforms\n",
    "import torch.nn as nn\n",
    "import torch.nn.functional as F\n",
    "from PIL import Image"
   ]
  },
  {
   "cell_type": "code",
   "execution_count": 2,
   "id": "4fde68e7-8207-433e-ad20-43c7a2c36746",
   "metadata": {},
   "outputs": [],
   "source": [
    "class L2pooling(nn.Module):\n",
    "    def __init__(self, filter_size=5, stride=2, channels=None, pad_off=0):\n",
    "        super(L2pooling, self).__init__()\n",
    "        self.padding = (filter_size - 2 )//2\n",
    "        self.stride = stride\n",
    "        self.channels = channels\n",
    "        a = np.hanning(filter_size)[1:-1]\n",
    "        g = torch.Tensor(a[:,None]*a[None,:])\n",
    "        g = g/torch.sum(g)\n",
    "        self.register_buffer('filter', g[None,None,:,:].repeat((self.channels,1,1,1)))\n",
    "\n",
    "    def forward(self, input):\n",
    "        input = input**2\n",
    "        out = F.conv2d(input, self.filter, stride=self.stride, padding=self.padding, groups=input.shape[1])\n",
    "        return (out+1e-12).sqrt()\n"
   ]
  },
  {
   "cell_type": "code",
   "execution_count": 3,
   "id": "069502da-f2ba-49fc-95a5-db4f5fe86e05",
   "metadata": {},
   "outputs": [],
   "source": [
    "class DUALNETIQ(torch.nn.Module):\n",
    "    def __init__(self, load_weights=True):\n",
    "        super(DUALNETIQ, self).__init__()\n",
    "\n",
    "        self.kappa = (torch.load('kappa.pt')).unsqueeze(0).unsqueeze(2).unsqueeze(3).to('cuda')\n",
    "        self.xi = (torch.load('xi.pt')).unsqueeze(0).unsqueeze(2).unsqueeze(3).to('cuda')\n",
    "\n",
    "        # Load the pretrained VGG19 model\n",
    "        vgg_pretrained_features = models.vgg19(pretrained=True).features\n",
    "        \n",
    "        # Load the pretrained SqueezeNet model\n",
    "        model = models.squeezenet1_1(pretrained=True).features\n",
    "        \n",
    "        self.stage1 = torch.nn.Sequential()\n",
    "        self.stage2 = torch.nn.Sequential()\n",
    "        self.stage3 = torch.nn.Sequential()\n",
    "        self.stage4 = torch.nn.Sequential()\n",
    "        self.stage5 = torch.nn.Sequential()\n",
    "        self.stage6 = torch.nn.Sequential()\n",
    "        self.stage7 = torch.nn.Sequential()\n",
    "\n",
    "        # VGG19 Stages\n",
    "        for x in range(0,4):\n",
    "            self.stage1.add_module(str(x), vgg_pretrained_features[x])\n",
    "        self.stage1.add_module(str(4), L2pooling(channels=64))\n",
    "        for x in range(5, 9):\n",
    "            self.stage1.add_module(str(x), vgg_pretrained_features[x])\n",
    "        self.stage1.add_module(str(9), L2pooling(channels=128))\n",
    "        for x in range(10, 18):\n",
    "            self.stage1.add_module(str(x), vgg_pretrained_features[x])\n",
    "        self.stage2.add_module(str(18), L2pooling(channels=256))\n",
    "        for x in range(19, 27):\n",
    "            self.stage2.add_module(str(x), vgg_pretrained_features[x])\n",
    "\n",
    "        # SqueezeNet Stages\n",
    "        for x in range(0,2):\n",
    "            self.stage3.add_module(str(x), model[x])\n",
    "        self.stage4.add_module(str(2), L2pooling(channels=64))\n",
    "        for x in range(3, 5):\n",
    "            self.stage4.add_module(str(x), model[x])\n",
    "        self.stage5.add_module(str(5), L2pooling(channels=128))\n",
    "        for x in range(6, 8):\n",
    "            self.stage5.add_module(str(x), model[x])\n",
    "        self.stage6.add_module(str(8), L2pooling(channels=256))\n",
    "        for x in range(9, 11):\n",
    "            self.stage6.add_module(str(x), model[x])\n",
    "        for x in range(11, 13):\n",
    "            self.stage7.add_module(str(x), model[x])\n",
    "\n",
    "        for param in self.parameters():\n",
    "            param.requires_grad = False\n",
    "\n",
    "        self.register_buffer(\"mean\", torch.tensor([0.485, 0.456, 0.406]).view(1,-1,1,1))\n",
    "        self.register_buffer(\"std\", torch.tensor([0.229, 0.224, 0.225]).view(1,-1,1,1))\n",
    "\n",
    "        self.chns = [3,256,512,64,128,256,384,512]\n",
    "         \n",
    "    def forward_once(self, x):\n",
    "        h_start = (x-self.mean)/self.std\n",
    "        h = self.stage1(h_start)\n",
    "        h1 = h\n",
    "        h = self.stage2(h)\n",
    "        h2 = h\n",
    "        h = self.stage3(h_start)\n",
    "        h3 = h\n",
    "        h = self.stage4(h)\n",
    "        h4 = h\n",
    "        h = self.stage5(h)\n",
    "        h5 = h\n",
    "        h = self.stage6(h)\n",
    "        h6 = h\n",
    "        h = self.stage7(h)\n",
    "        h7 = h\n",
    "        return [x, h1, h2, h3, h4, h5, h6, h7]\n",
    "\n",
    "    def forward(self, x, y, require_grad=False, batch_average=False):\n",
    "        if require_grad:\n",
    "            feats0 = self.forward_once(x)\n",
    "            feats1 = self.forward_once(y)\n",
    "        else:\n",
    "            with torch.no_grad():\n",
    "                feats0 = self.forward_once(x)\n",
    "                feats1 = self.forward_once(y)\n",
    "        dist1 = 0\n",
    "        dist2 = 0\n",
    "        c1 = 1e-6\n",
    "        c2 = 1e-6\n",
    "        w_sum = self.kappa.sum() + self.xi.sum()\n",
    "        kappa = torch.split(self.kappa/w_sum, self.chns, dim=1)\n",
    "        xi = torch.split(self.xi/w_sum, self.chns, dim=1)\n",
    "        for k in range(len(self.chns)):\n",
    "            x_mean = feats0[k].mean([2,3], keepdim=True)\n",
    "            y_mean = feats1[k].mean([2,3], keepdim=True)\n",
    "            S1 = (2*x_mean*y_mean+c1)/(x_mean**2+y_mean**2+c1)\n",
    "            dist1 = dist1+(kappa[k]*S1).sum(1,keepdim=True)\n",
    "\n",
    "            x_var = ((feats0[k]-x_mean)**2).mean([2,3], keepdim=True)\n",
    "            y_var = ((feats1[k]-y_mean)**2).mean([2,3], keepdim=True)\n",
    "            xy_cov = (feats0[k]*feats1[k]).mean([2,3],keepdim=True) - x_mean*y_mean\n",
    "            S2 = (2*xy_cov+c2)/(x_var+y_var+c2)\n",
    "            dist2 = dist2+(xi[k]*S2).sum(1,keepdim=True)\n",
    "\n",
    "        score = 1 - (dist1+dist2).squeeze()\n",
    "        if batch_average:\n",
    "            return score.mean()\n",
    "        else:\n",
    "            return score"
   ]
  },
  {
   "cell_type": "code",
   "execution_count": 4,
   "id": "1e357420-a755-49ff-a060-034e41dfe10a",
   "metadata": {},
   "outputs": [],
   "source": [
    "def prepare_image(image, resize=True):\n",
    "    resize = transforms.Resize((256, 256))\n",
    "    image = resize(image)\n",
    "    image = transforms.ToTensor()(image)\n",
    "    return image.unsqueeze(0)"
   ]
  },
  {
   "cell_type": "code",
   "execution_count": 5,
   "id": "3bf8c4b2-3726-4162-943c-a929d33b76c9",
   "metadata": {},
   "outputs": [
    {
     "name": "stderr",
     "output_type": "stream",
     "text": [
      "C:\\Users\\PC\\AppData\\Local\\Programs\\Python\\Python312\\Lib\\site-packages\\torchvision\\models\\_utils.py:208: UserWarning: The parameter 'pretrained' is deprecated since 0.13 and may be removed in the future, please use 'weights' instead.\n",
      "  warnings.warn(\n",
      "C:\\Users\\PC\\AppData\\Local\\Programs\\Python\\Python312\\Lib\\site-packages\\torchvision\\models\\_utils.py:223: UserWarning: Arguments other than a weight enum or `None` for 'weights' are deprecated since 0.13 and may be removed in the future. The current behavior is equivalent to passing `weights=VGG19_Weights.IMAGENET1K_V1`. You can also use `weights=VGG19_Weights.DEFAULT` to get the most up-to-date weights.\n",
      "  warnings.warn(msg)\n",
      "C:\\Users\\PC\\AppData\\Local\\Programs\\Python\\Python312\\Lib\\site-packages\\torchvision\\models\\_utils.py:223: UserWarning: Arguments other than a weight enum or `None` for 'weights' are deprecated since 0.13 and may be removed in the future. The current behavior is equivalent to passing `weights=SqueezeNet1_1_Weights.IMAGENET1K_V1`. You can also use `weights=SqueezeNet1_1_Weights.DEFAULT` to get the most up-to-date weights.\n",
      "  warnings.warn(msg)\n"
     ]
    },
    {
     "name": "stdout",
     "output_type": "stream",
     "text": [
      "0.3308456540107727\n"
     ]
    }
   ],
   "source": [
    "ref = prepare_image(Image.open('bridge.png').convert(\"RGB\"))\n",
    "dist = prepare_image(Image.open('bridge.BLUR.5.png').convert(\"RGB\"))\n",
    "assert ref.shape == dist.shape\n",
    "\n",
    "device = torch.device('cuda' if torch.cuda.is_available() else 'cpu')\n",
    "model = DUALNETIQ().to(device)\n",
    "ref = ref.to(device)\n",
    "dist = dist.to(device)\n",
    "score = model(ref, dist)\n",
    "print(score.item())\n",
    "# 0.3308"
   ]
  },
  {
   "cell_type": "code",
   "execution_count": null,
   "id": "4b4c7cbf-4672-48c0-91b9-b94b7b43621f",
   "metadata": {},
   "outputs": [],
   "source": []
  }
 ],
 "metadata": {
  "kernelspec": {
   "display_name": "Python 3 (ipykernel)",
   "language": "python",
   "name": "python3"
  },
  "language_info": {
   "codemirror_mode": {
    "name": "ipython",
    "version": 3
   },
   "file_extension": ".py",
   "mimetype": "text/x-python",
   "name": "python",
   "nbconvert_exporter": "python",
   "pygments_lexer": "ipython3",
   "version": "3.12.2"
  }
 },
 "nbformat": 4,
 "nbformat_minor": 5
}
